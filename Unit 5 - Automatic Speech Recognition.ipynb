{
 "cells": [
  {
   "cell_type": "markdown",
   "id": "0df09b0b-36b6-4c12-afbf-fa7f1926ac51",
   "metadata": {},
   "source": [
    "## Probing CTC Models"
   ]
  },
  {
   "cell_type": "markdown",
   "id": "e39b119f-1354-4430-be0f-d5350b7a2199",
   "metadata": {},
   "source": [
    "Let’s load a small excerpt of the LibriSpeech ASR dataset to demonstrate Wav2Vec2’s speech transcription capabilities:\n",
    "\n"
   ]
  },
  {
   "cell_type": "code",
   "execution_count": null,
   "id": "7187e597-3402-4fe0-b66e-1c6d79fd4f4a",
   "metadata": {},
   "outputs": [
    {
     "data": {
      "application/vnd.jupyter.widget-view+json": {
       "model_id": "0d71fbbefc824181889a99a4cac80fea",
       "version_major": 2,
       "version_minor": 0
      },
      "text/plain": [
       "Generating validation split:   0%|          | 0/73 [00:00<?, ? examples/s]"
      ]
     },
     "metadata": {},
     "output_type": "display_data"
    }
   ],
   "source": [
    "from datasets import load_dataset\n",
    "\n",
    "dataset = load_dataset(\n",
    "    \"hf-internal-testing/librispeech_asr_dummy\", \"clean\", split=\"validation\"\n",
    ")\n",
    "dataset"
   ]
  },
  {
   "cell_type": "markdown",
   "id": "323d8e8a-a85f-4ca8-9555-ad4e8c6cdc09",
   "metadata": {},
   "source": [
    "We can pick one of the 73 audio samples and inspect the audio sample as well as the transcription:"
   ]
  },
  {
   "cell_type": "code",
   "execution_count": null,
   "id": "020528d3-81c2-4933-b995-ee60b9b8dca1",
   "metadata": {},
   "outputs": [],
   "source": [
    "from IPython.display import Audio\n",
    "\n",
    "sample = dataset[2]\n",
    "\n",
    "print(sample[\"text\"])\n",
    "Audio(sample[\"audio\"][\"array\"], rate=sample[\"audio\"][\"sampling_rate\"])"
   ]
  },
  {
   "cell_type": "code",
   "execution_count": null,
   "id": "1108a267-d746-4180-b1b5-c11688c197e5",
   "metadata": {},
   "outputs": [],
   "source": []
  }
 ],
 "metadata": {
  "kernelspec": {
   "display_name": "Python 3 (ipykernel)",
   "language": "python",
   "name": "python3"
  },
  "language_info": {
   "codemirror_mode": {
    "name": "ipython",
    "version": 3
   },
   "file_extension": ".py",
   "mimetype": "text/x-python",
   "name": "python",
   "nbconvert_exporter": "python",
   "pygments_lexer": "ipython3",
   "version": "3.12.7"
  }
 },
 "nbformat": 4,
 "nbformat_minor": 5
}
