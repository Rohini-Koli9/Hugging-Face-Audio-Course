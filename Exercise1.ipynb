{
 "cells": [
  {
   "cell_type": "markdown",
   "id": "631cd9c9-0868-4b6c-b7a2-f098e6854b3f",
   "metadata": {},
   "source": [
    "## Hands-On Excercise"
   ]
  },
  {
   "cell_type": "code",
   "execution_count": null,
   "id": "e70ba283-bca6-458c-8ceb-0010cc704b7a",
   "metadata": {},
   "outputs": [],
   "source": [
    "from datasets import load_dataset\n",
    "\n",
    "dataset = load_dataset(\"facebook/voxpopuli\", name=\"en\", streaming=True)\n",
    "dataset"
   ]
  },
  {
   "cell_type": "code",
   "execution_count": null,
   "id": "6792e8ec-4846-4bb6-b1e1-99446308990e",
   "metadata": {},
   "outputs": [],
   "source": [
    "dataset_head = dataset['train'].take(3)"
   ]
  },
  {
   "cell_type": "code",
   "execution_count": null,
   "id": "2c7f9592-191a-455f-9e76-6eba83a12f16",
   "metadata": {},
   "outputs": [],
   "source": []
  }
 ],
 "metadata": {
  "kernelspec": {
   "display_name": "Python 3 (ipykernel)",
   "language": "python",
   "name": "python3"
  },
  "language_info": {
   "codemirror_mode": {
    "name": "ipython",
    "version": 3
   },
   "file_extension": ".py",
   "mimetype": "text/x-python",
   "name": "python",
   "nbconvert_exporter": "python",
   "pygments_lexer": "ipython3",
   "version": "3.12.7"
  }
 },
 "nbformat": 4,
 "nbformat_minor": 5
}
